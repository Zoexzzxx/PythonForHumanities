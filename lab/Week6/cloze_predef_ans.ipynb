{
 "cells": [
  {
   "cell_type": "markdown",
   "metadata": {},
   "source": [
    "# 第六週作業回饋：填空測驗（指定字）"
   ]
  },
  {
   "cell_type": "markdown",
   "metadata": {},
   "source": [
    "\n",
    "* [作業需求](#作業需求)\n",
    "* [作業目的](#作業目的)\n",
    "* [實作](#實作)\n",
    "* [其他實作想法](#其他實作想法)\n",
    "  * 想法1：改變lyrics的字串型態\n",
    "  * 想法2：直接表徵剖析後的資料結構\n",
    "* [延伸挑戰](#延伸挑戰)\n",
    "  * [亂數排列 & 多個填空字](#亂數排列-%26amp%3B-多個填空字)\n",
    "  * [特定字群 & 選擇出題句](#特定字群-%26amp%3B-選擇出題句)\n",
    "  * [依序出完所有歌詞](#依序出完所有歌詞)"
   ]
  },
  {
   "cell_type": "markdown",
   "metadata": {},
   "source": [
    "## 作業需求\n",
    "* 程式內已寫定一組字串，這組字串內有多筆出題資料。\n",
    "* 每筆出題資料都以斷行分隔，每行內皆含填空字以及歌詞，兩者以逗號分隔。\n",
    "* 程式需選出其中一筆出題資料。\n",
    "* 程式需從出題資料中，取出填空字和歌詞。\n",
    "* 程式將歌詞中的填空字取代成底線，作為填空句。\n",
    "* 在螢幕上呈現出填空句。使用者作答並由程式回饋結果。"
   ]
  },
  {
   "cell_type": "markdown",
   "metadata": {},
   "source": [
    "## 作業目的\n",
    "第六週的主題是物件方法。在課堂中，我們認識各資料型態（strings, list, dictionary等）的常見方法。這項作業除了讓同學知道在程式中如何使用物件方法外，作業中的資料是一個多行歌詞字串，它同時具有填空字和歌詞的訊息，所以需要用到字串的切分方法（.split()）做簡單的**資料剖析**。程式一步步的操弄物件表徵：從（1）歌詞作為字串（string），到（2）歌詞句的清單（list），到（3）清單排序，並（4）擷取最後一個元素（element），（5）提取填空字與歌詞，（6）產生填空句。\n",
    "\n",
    "這週的作業只從**多句歌詞中選出「一句」作為出題句**。由於選擇句子的方式是用字串排序後的最後一個元素，所以**程式每次選擇到的句子都是固定的**。在作業的例子裡，選出的句子剛好也是原歌詞的第一句。如果同學想要隨機選出一句，或依序出完所有的歌詞，請參考[延伸挑戰](#延伸挑戰)。"
   ]
  },
  {
   "cell_type": "markdown",
   "metadata": {},
   "source": [
    "## 實作 (Implementation)\n",
    "### 資料區段"
   ]
  },
  {
   "cell_type": "code",
   "execution_count": 1,
   "metadata": {},
   "outputs": [],
   "source": [
    "## Data Section\n",
    "lyrics = \"\"\"路,去學校的路很久沒走\n",
    "換,最近也換了新的工作\n",
    "缺,所有的追求是不是缺少了什麼\n",
    "平,想像著生活風平浪靜\n",
    "想,打開了窗戶突然想起\n",
    "水,你在的世界會不會很靠近水星\"\"\""
   ]
  },
  {
   "cell_type": "code",
   "execution_count": 2,
   "metadata": {},
   "outputs": [
    {
     "name": "stdout",
     "output_type": "stream",
     "text": [
      "Lyrics: '路,去學校的路很久沒走\\n換,最近也換了新的工作\\n缺,所有的追求是不是缺少了什麼\\n平,想像著生活風平浪靜\\n想,打開了窗戶突然想起\\n水,你在的世界會不會很靠近水星'\n"
     ]
    }
   ],
   "source": [
    "## Debug print\n",
    "print(\"Lyrics: {!r}\".format(lyrics))"
   ]
  },
  {
   "cell_type": "markdown",
   "metadata": {},
   "source": [
    "---\n",
    "\n",
    "`lyrics` 是一個多行字串，每一行就是一筆出題資料，每筆出題資料都有兩個欄位（填空字與歌詞），並以逗號分隔。從debug print可以看得出來，我們所有需要操弄的資料，已經全部表徵在這個字串裡，其中分行字元是以`\\n`表示。而現在的問題是如何把這個一序列的字串，變成可操作的資料結構。\n",
    "\n",
    "---"
   ]
  },
  {
   "cell_type": "markdown",
   "metadata": {},
   "source": [
    "## 產生填空句區段"
   ]
  },
  {
   "cell_type": "code",
   "execution_count": 3,
   "metadata": {},
   "outputs": [
    {
     "name": "stdout",
     "output_type": "stream",
     "text": [
      "[DEUBG] sentence_list, before sorting: ['路,去學校的路很久沒走', '換,最近也換了新的工作', '缺,所有的追求是不是缺少了什麼', '平,想像著生活風平浪靜', '想,打開了窗戶突然想起', '水,你在的世界會不會很靠近水星']\n",
      "[DEUBG] sentence_list, after sorting: ['平,想像著生活風平浪靜', '想,打開了窗戶突然想起', '換,最近也換了新的工作', '水,你在的世界會不會很靠近水星', '缺,所有的追求是不是缺少了什麼', '路,去學校的路很久沒走']\n",
      "[DEBUG] popped element of sentence_list: 路,去學校的路很久沒走\n"
     ]
    }
   ],
   "source": [
    "## Cloze sentence generation\n",
    "sentence_list = lyrics.split(\"\\n\")\n",
    "print(\"[DEUBG] sentence_list, before sorting: {}\".format(sentence_list))\n",
    "\n",
    "sentence_list.sort()\n",
    "print(\"[DEUBG] sentence_list, after sorting: {}\".format(sentence_list))\n",
    "\n",
    "line = sentence_list.pop()\n",
    "print(\"[DEBUG] popped element of sentence_list: {}\".format(line))"
   ]
  },
  {
   "cell_type": "markdown",
   "metadata": {},
   "source": [
    "---\n",
    "\n",
    "在這個步驟中，程式已經將`lyrics`用分行符號（\\n）切分成出題資料清單（`sentence_list`），並讓清單中的元素按照字串排序的規則排序。排序後，我們只取用排序的最後一項元素當作接下來的出題資料來源（`line`）。\n",
    "在這個例子裡，字串排序是固定的，所以每次執行時，程式都會選出同一個句子。\n",
    "\n",
    "---"
   ]
  },
  {
   "cell_type": "code",
   "execution_count": 4,
   "metadata": {},
   "outputs": [
    {
     "name": "stdout",
     "output_type": "stream",
     "text": [
      "[DEBUG] item_pair: ['路', '去學校的路很久沒走']\n",
      "[DEBUG] sentence_x: 去學校的路很久沒走\n",
      "[DEBUG] cloze_char: 路\n",
      "[DEBUG] cloze_sentence: 去學校的__很久沒走\n"
     ]
    }
   ],
   "source": [
    "## Extract cloze characters and lyric sentence\n",
    "item_pair = line.split(\",\")\n",
    "print(\"[DEBUG] item_pair: {}\".format(item_pair))\n",
    "\n",
    "sentence_x = item_pair[1]\n",
    "cloze_char = item_pair[0]\n",
    "print(\"[DEBUG] sentence_x: {}\".format(sentence_x))\n",
    "print(\"[DEBUG] cloze_char: {}\".format(cloze_char))\n",
    "\n",
    "cloze_sentence = sentence_x.replace(cloze_char, \"__\")\n",
    "print(\"[DEBUG] cloze_sentence: {}\".format(cloze_sentence))"
   ]
  },
  {
   "cell_type": "markdown",
   "metadata": {},
   "source": [
    "---\n",
    "\n",
    "接著，我們用逗號作為分隔符號，把`line`的內容切成一個有兩個元素的清單，並命名為`item_pair`。在`item_pair`裡，第一個元素就是填空字（`cloze_char`），第二個元素就是歌詞句（`sentence_x`）。最後我們仍需要填空句（`cloze_sentence`），它的內容就只需用字串的取代方法（`.replace()`）把填空字取代成底線即可。\n",
    "\n",
    "---"
   ]
  },
  {
   "cell_type": "markdown",
   "metadata": {},
   "source": [
    "## 使用者互動階段"
   ]
  },
  {
   "cell_type": "code",
   "execution_count": 6,
   "metadata": {},
   "outputs": [
    {
     "name": "stdout",
     "output_type": "stream",
     "text": [
      "--- 歌詞填空產生器 ---\n",
      "去學校的__很久沒走\n"
     ]
    },
    {
     "name": "stdin",
     "output_type": "stream",
     "text": [
      "請填入空格中的字是： 路\n"
     ]
    },
    {
     "name": "stdout",
     "output_type": "stream",
     "text": [
      "答對了！\n"
     ]
    }
   ],
   "source": [
    "## Display the cloze\n",
    "print(\"--- 歌詞填空產生器 ---\")\n",
    "print(cloze_sentence)\n",
    "\n",
    "## User Input\n",
    "ans_char = input(\"請填入空格中的字是：\")\n",
    "\n",
    "## Check the answer\n",
    "if ans_char == cloze_char:\n",
    "    print(\"答對了！\")\n",
    "else:\n",
    "    print(\"答案應該是「{}」\".format(cloze_char))"
   ]
  },
  {
   "cell_type": "markdown",
   "metadata": {},
   "source": [
    "---\n",
    "\n",
    "`cloze_sentence`和`cloze_char`是最後在互動階段會用到的兩個變項。最後這階段只是呈現填空句，收使用者輸入，並用條件式判斷對錯並回饋。\n",
    "\n",
    "---"
   ]
  },
  {
   "cell_type": "markdown",
   "metadata": {},
   "source": [
    "## 其他實作想法"
   ]
  },
  {
   "cell_type": "markdown",
   "metadata": {},
   "source": [
    "### 想法1：改變lyrics的字串型態"
   ]
  },
  {
   "cell_type": "markdown",
   "metadata": {},
   "source": [
    "有一種想法是把所有的填空字跟歌詞全部用逗號分隔，如以下的方法。"
   ]
  },
  {
   "cell_type": "code",
   "execution_count": 7,
   "metadata": {},
   "outputs": [],
   "source": [
    "lyrics = \"\"\"路,去學校的路很久沒走,換,最近也換了新的工作,缺,所有的追求是不是缺少了什麼,\\\n",
    "平,想像著生活風平浪靜,想,打開了窗戶突然想起,水,你在的世界會不會很靠近水星\"\"\""
   ]
  },
  {
   "cell_type": "markdown",
   "metadata": {},
   "source": [
    "這個想法的好處是資料結構比較好剖析，例如："
   ]
  },
  {
   "cell_type": "code",
   "execution_count": 8,
   "metadata": {},
   "outputs": [
    {
     "data": {
      "text/plain": [
       "['路',\n",
       " '去學校的路很久沒走',\n",
       " '換',\n",
       " '最近也換了新的工作',\n",
       " '缺',\n",
       " '所有的追求是不是缺少了什麼',\n",
       " '平',\n",
       " '想像著生活風平浪靜',\n",
       " '想',\n",
       " '打開了窗戶突然想起',\n",
       " '水',\n",
       " '你在的世界會不會很靠近水星']"
      ]
     },
     "execution_count": 8,
     "metadata": {},
     "output_type": "execute_result"
    }
   ],
   "source": [
    "lyrics.split(\",\")"
   ]
  },
  {
   "cell_type": "markdown",
   "metadata": {},
   "source": [
    "---\n",
    "\n",
    "這種資料的結構比較扁平，在某些狀況下是好的。但也因資料結構扁平，使得我們不再能直接用清單的排序功能來改變出題資料的順序。如下面的例子所示，直接排序清單會打亂填空字和歌詞之間的順序關係。\n",
    "\n",
    "---"
   ]
  },
  {
   "cell_type": "code",
   "execution_count": 9,
   "metadata": {},
   "outputs": [
    {
     "name": "stdout",
     "output_type": "stream",
     "text": [
      "[DEBUG] item_list: ['你在的世界會不會很靠近水星', '去學校的路很久沒走', '平', '想', '想像著生活風平浪靜', '所有的追求是不是缺少了什麼', '打開了窗戶突然想起', '換', '最近也換了新的工作', '水', '缺', '路']\n"
     ]
    }
   ],
   "source": [
    "item_list = lyrics.split(\",\")\n",
    "item_list.sort()\n",
    "print(\"[DEBUG] item_list: {}\".format(item_list))"
   ]
  },
  {
   "cell_type": "markdown",
   "metadata": {},
   "source": [
    "---\n",
    "\n",
    "當然，程式和資料表徵間的互動是彈性的。雖然我們不能用原本的程式來操作上述的資料表徵（如排序、取元素），但只要稍做修改，還是完全合理的資料表達方法。（以下程式僅供參考）\n",
    "\n",
    "---"
   ]
  },
  {
   "cell_type": "code",
   "execution_count": 10,
   "metadata": {},
   "outputs": [
    {
     "name": "stdout",
     "output_type": "stream",
     "text": [
      "[DEBUG] item_list: [('平', '想像著生活風平浪靜'), ('想', '打開了窗戶突然想起'), ('換', '最近也換了新的工作'), ('水', '你在的世界會不會很靠近水星'), ('缺', '所有的追求是不是缺少了什麼'), ('路', '去學校的路很久沒走')]\n",
      "[DEBUG] item_pair: ('路', '去學校的路很久沒走')\n"
     ]
    }
   ],
   "source": [
    "items = lyrics.split(\",\")\n",
    "item_list = []\n",
    "for idx in range(0, len(items), 2):\n",
    "    item_list.append(tuple([items[idx], items[idx+1]]))\n",
    "item_list.sort()\n",
    "print(\"[DEBUG] item_list: {}\".format(item_list))\n",
    "item_pair = item_list.pop()\n",
    "print(\"[DEBUG] item_pair: {}\".format(item_pair))\n"
   ]
  },
  {
   "cell_type": "markdown",
   "metadata": {},
   "source": [
    "---\n",
    "\n",
    "上述的程式用到迴圈，並利用填空字和歌詞句在`items`中位置是兩兩成對出現的特性，以2作為索引遞進（increment）單位（`range(0, len(items), 2)`），順序取出填空字與歌詞句。另外，由於填空字與歌詞句的搭配關係是固定的，原則上我們不希望歌詞句或填空字可以被獨立改變，所以把每個出題資料都表徵成一個tuple。之後經過同樣的排序步驟，最後的`item_pair`就和原本作業範例中的`item_pair`相同，可以接著做後續的操作。\n",
    "\n",
    "---"
   ]
  },
  {
   "cell_type": "markdown",
   "metadata": {},
   "source": [
    "### 想法2：直接表徵剖析後的資料結構"
   ]
  },
  {
   "cell_type": "code",
   "execution_count": 11,
   "metadata": {},
   "outputs": [],
   "source": [
    "lyrics = ['路', '去學校的路很久沒走',\n",
    " '換', '最近也換了新的工作',\n",
    " '缺', '所有的追求是不是缺少了什麼',\n",
    " '平', '想像著生活風平浪靜',\n",
    " '想', '打開了窗戶突然想起',\n",
    " '水', '你在的世界會不會很靠近水星']"
   ]
  },
  {
   "cell_type": "markdown",
   "metadata": {},
   "source": [
    "---\n",
    "\n",
    "這種資料表徵的方法是對開發者最「仁慈」的方法，事實上現在也滿常看到這種資料型態（例如之後可能會談到的JSON資料格式）。這種資料格式直接就是[想法1][link]中的`items`。所以只要按照如想法1後續的程式操作方法，也是完全合理的資料結構。\n",
    "\n",
    "[link]:#%E6%83%B3%E6%B3%951%EF%BC%9A%E6%94%B9%E8%AE%8Alyrics%E7%9A%84%E5%AD%97%E4%B8%B2%E5%9E%8B%E6%85%8B"
   ]
  },
  {
   "cell_type": "markdown",
   "metadata": {},
   "source": [
    "事實上，如果都可以直接表徵資料結構，我們甚至可以把上述的結構賦予巢套層級，它會更接近之後程式需要的樣子，例如：\n"
   ]
  },
  {
   "cell_type": "code",
   "execution_count": 12,
   "metadata": {},
   "outputs": [
    {
     "name": "stdout",
     "output_type": "stream",
     "text": [
      "[DEBUG] lyrics_nested: [['路', '去學校的路很久沒走'], ['換', '最近也換了新的工作'], ['缺', '所有的追求是不是缺少了什麼'], ['平', '想像著生活風平浪靜'], ['想', '打開了窗戶突然想起'], ['水', '你在的世界會不會很靠近水星']]\n"
     ]
    }
   ],
   "source": [
    "lyrics_nested = [['路', '去學校的路很久沒走'],\n",
    " ['換', '最近也換了新的工作'],\n",
    " ['缺', '所有的追求是不是缺少了什麼'],\n",
    " ['平', '想像著生活風平浪靜'],\n",
    " ['想', '打開了窗戶突然想起'],\n",
    " ['水', '你在的世界會不會很靠近水星']]\n",
    "print(\"[DEBUG] lyrics_nested: {}\".format(lyrics_nested))"
   ]
  },
  {
   "cell_type": "markdown",
   "metadata": {},
   "source": [
    "---\n",
    "\n",
    "這個資料表徵和`item_list`幾乎是完全一樣的，它同樣也可以直接排序："
   ]
  },
  {
   "cell_type": "code",
   "execution_count": 13,
   "metadata": {},
   "outputs": [
    {
     "name": "stdout",
     "output_type": "stream",
     "text": [
      "[DEBUG] lyrics_nested: [['平', '想像著生活風平浪靜'], ['想', '打開了窗戶突然想起'], ['換', '最近也換了新的工作'], ['水', '你在的世界會不會很靠近水星'], ['缺', '所有的追求是不是缺少了什麼'], ['路', '去學校的路很久沒走']]\n",
      "[DEBUG] item_pair: ['路', '去學校的路很久沒走']\n"
     ]
    }
   ],
   "source": [
    "lyrics_nested.sort()\n",
    "print(\"[DEBUG] lyrics_nested: {}\".format(lyrics_nested))\n",
    "item_pair = lyrics_nested.pop()\n",
    "print(\"[DEBUG] item_pair: {}\".format(item_pair))"
   ]
  },
  {
   "cell_type": "markdown",
   "metadata": {},
   "source": [
    "---\n",
    "\n",
    "這裡的`item_pair`可以當成原始作業範例的`item_pair`，接著完成後續操作。\n",
    "\n",
    "---"
   ]
  },
  {
   "cell_type": "markdown",
   "metadata": {},
   "source": [
    "### 字串表徵"
   ]
  },
  {
   "cell_type": "markdown",
   "metadata": {},
   "source": [
    "作業中的`lyrics`要用字串表徵的原因，是由於資料檔本身常常是純文字檔，例如常見的逗號分隔檔（comma-separated values, CSV）。\n",
    "我們現在的作業、範例都直接把資料內容寫在程式中，並叫它Data Section。\n",
    "但在實際應用上，Data Section中的資料常存放於另一個檔案，在程式執行時才載入的。\n",
    "所以用字串來表達`lyrics`就很接近從文字檔中直接讀進來的樣子。\n",
    "當然，在資料處理的情境裡會碰到相當多元的格式，不見得一定只有CSV，所以各種資料表徵的方法都是可能的。資料表徵的方法不同，之後接著的程式操作型態就會不同。"
   ]
  },
  {
   "cell_type": "markdown",
   "metadata": {},
   "source": [
    "## 延伸挑戰"
   ]
  },
  {
   "cell_type": "markdown",
   "metadata": {},
   "source": [
    "以下分別將延伸挑戰的出題形式分成三種實作(implementation)，（1）亂數排列和多個填空字；（2）特定字群以及選擇出題句以及（3）依序出完所有歌詞。延伸挑戰所用的程式語法可能不見得限定在第六週前談到的內容，尤其是迴圈和內建的random package。"
   ]
  },
  {
   "cell_type": "markdown",
   "metadata": {},
   "source": [
    "### 亂數排列 & 多個填空字"
   ]
  },
  {
   "cell_type": "code",
   "execution_count": 14,
   "metadata": {},
   "outputs": [
    {
     "name": "stdout",
     "output_type": "stream",
     "text": [
      "[DEBUG] sentence_list, before shuffling: ['路很久,去學校的路很久沒走', '也換了,最近也換了新的工作', '缺少,所有的追求是不是缺少了什麼', '風平浪靜,想像著生活風平浪靜', '想起,打開了窗戶突然想起', '很靠近水星,你在的世界會不會很靠近水星']\n",
      "[DEBUG] sentence_list, after shuffling: ['缺少,所有的追求是不是缺少了什麼', '風平浪靜,想像著生活風平浪靜', '想起,打開了窗戶突然想起', '很靠近水星,你在的世界會不會很靠近水星', '也換了,最近也換了新的工作', '路很久,去學校的路很久沒走']\n",
      "[DEBUG] cloze_sentence: 去學校的______沒走\n",
      "--- 歌詞填空產生器 ---\n",
      "去學校的______沒走\n"
     ]
    },
    {
     "name": "stdin",
     "output_type": "stream",
     "text": [
      "請填入空格中的字是： 路很久\n"
     ]
    },
    {
     "name": "stdout",
     "output_type": "stream",
     "text": [
      "答對了！\n"
     ]
    }
   ],
   "source": [
    "## Cloze sentence generation\n",
    "lyrics = \"\"\"路很久,去學校的路很久沒走\n",
    "也換了,最近也換了新的工作\n",
    "缺少,所有的追求是不是缺少了什麼\n",
    "風平浪靜,想像著生活風平浪靜\n",
    "想起,打開了窗戶突然想起\n",
    "很靠近水星,你在的世界會不會很靠近水星\"\"\"\n",
    "\n",
    "sentence_list = lyrics.split(\"\\n\")\n",
    "\n",
    "## use shuffle function in random package\n",
    "import random\n",
    "print(\"[DEBUG] sentence_list, before shuffling: {}\".format(sentence_list))\n",
    "random.shuffle(sentence_list)\n",
    "print(\"[DEBUG] sentence_list, after shuffling: {}\".format(sentence_list))\n",
    "\n",
    "line = sentence_list.pop()\n",
    "item_pair = line.split(\",\")\n",
    "sentence_x = item_pair[1]\n",
    "cloze_char = item_pair[0]\n",
    "n_cloze_char = len(cloze_char)\n",
    "\n",
    "cloze_sentence = sentence_x.replace(cloze_char, \"__\" * n_cloze_char)\n",
    "print(\"[DEBUG] cloze_sentence: {}\".format(cloze_sentence))\n",
    "\n",
    "## User interaction\n",
    "print(\"--- 歌詞填空產生器 ---\")\n",
    "print(cloze_sentence)\n",
    "\n",
    "ans_char = input(\"請填入空格中的字是：\")\n",
    "\n",
    "if ans_char == cloze_char:\n",
    "    print(\"答對了！\")\n",
    "else:\n",
    "    print(\"答案應該是「{}」\".format(cloze_char))"
   ]
  },
  {
   "cell_type": "markdown",
   "metadata": {},
   "source": [
    "### 特定字群 & 選擇出題句"
   ]
  },
  {
   "cell_type": "code",
   "execution_count": 15,
   "metadata": {},
   "outputs": [
    {
     "name": "stdout",
     "output_type": "stream",
     "text": [
      "[DEBUG] sentence_list, before sorting: ['去學校的路很久沒走', '最近也換了新的工作', '所有的追求是不是缺少了什麼', '想像著生活風平浪靜', '打開了窗戶突然想起', '你在的世界會不會很靠近水星']\n",
      "[DEBUG] sentence_list, after sorting: ['你在的世界會不會很靠近水星', '去學校的路很久沒走', '想像著生活風平浪靜', '所有的追求是不是缺少了什麼', '打開了窗戶突然想起', '最近也換了新的工作']\n"
     ]
    },
    {
     "name": "stdin",
     "output_type": "stream",
     "text": [
      "選擇題數(1-6) 2\n"
     ]
    },
    {
     "name": "stdout",
     "output_type": "stream",
     "text": [
      "[DEBUG] cloze_sentence: 去__校____很久沒走\n",
      "[DEBUG] cloze_chars: 學的路\n",
      "--- 歌詞填空產生器 ---\n",
      "去__校____很久沒走\n"
     ]
    },
    {
     "name": "stdin",
     "output_type": "stream",
     "text": [
      "請依序填入空格中的字是： 學的路\n"
     ]
    },
    {
     "name": "stdout",
     "output_type": "stream",
     "text": [
      "答對了！\n"
     ]
    }
   ],
   "source": [
    "## Data Section\n",
    "lyrics = \"\"\"去學校的路很久沒走\n",
    "最近也換了新的工作\n",
    "所有的追求是不是缺少了什麼\n",
    "想像著生活風平浪靜\n",
    "打開了窗戶突然想起\n",
    "你在的世界會不會很靠近水星\"\"\"\n",
    "\n",
    "cloze_candids = \"學路的是想會\"\n",
    "\n",
    "# Parse lyrics and sorting sentence_list\n",
    "sentence_list = lyrics.split(\"\\n\")\n",
    "print(\"[DEBUG] sentence_list, before sorting: {}\".format(sentence_list))\n",
    "sentence_list.sort()\n",
    "print(\"[DEBUG] sentence_list, after sorting: {}\".format(sentence_list))\n",
    "\n",
    "# Get user input to select a sentence\n",
    "sent_idx_str = input(\"選擇題數(1-{})\".format(len(sentence_list)))\n",
    "if not sent_idx_str:    \n",
    "    exit()\n",
    "sent_idx = int(sent_idx_str)-1\n",
    "\n",
    "# pop the selected index\n",
    "sentence_x = sentence_list.pop(sent_idx)\n",
    "\n",
    "# prepare cloze_sentence and cloze_chars (as the answer)\n",
    "cloze_sentence = \"\"\n",
    "cloze_chars = \"\"\n",
    "\n",
    "# iterate over each character in sentence_x\n",
    "for ch_x in sentence_x:    \n",
    "    if ch_x in cloze_candids:\n",
    "        # if ch_x is in cloze_candids, add it into cloze_chars\n",
    "        # and concatenate underline (\"__\") in cloze_sentence\n",
    "        cloze_chars += ch_x\n",
    "        cloze_sentence += \"__\"\n",
    "    else:\n",
    "        # or else, just concatenate ch_x in cloze_sentence\n",
    "        cloze_sentence += ch_x\n",
    "\n",
    "print(\"[DEBUG] cloze_sentence: {}\".format(cloze_sentence))\n",
    "print(\"[DEBUG] cloze_chars: {}\".format(cloze_chars))\n",
    "\n",
    "## User interaction\n",
    "print(\"--- 歌詞填空產生器 ---\")\n",
    "print(cloze_sentence)\n",
    "\n",
    "ans_char = input(\"請依序填入空格中的字是：\")\n",
    "\n",
    "if ans_char == cloze_chars:\n",
    "    print(\"答對了！\")\n",
    "else:\n",
    "    print(\"答案應該是「{}」\".format(cloze_chars))"
   ]
  },
  {
   "cell_type": "markdown",
   "metadata": {},
   "source": [
    "### 依序出完所有歌詞"
   ]
  },
  {
   "cell_type": "code",
   "execution_count": 16,
   "metadata": {},
   "outputs": [
    {
     "name": "stdout",
     "output_type": "stream",
     "text": [
      "--- 歌詞填空產生器 ---\n",
      "去學校的__很久沒走\n"
     ]
    },
    {
     "name": "stdin",
     "output_type": "stream",
     "text": [
      "請填入空格中的字是： 路\n"
     ]
    },
    {
     "name": "stdout",
     "output_type": "stream",
     "text": [
      "答對了！\n",
      "最近也__了新的工作\n"
     ]
    },
    {
     "name": "stdin",
     "output_type": "stream",
     "text": [
      "請填入空格中的字是： 換\n"
     ]
    },
    {
     "name": "stdout",
     "output_type": "stream",
     "text": [
      "答對了！\n",
      "所有的追求是不是__少了什麼\n"
     ]
    },
    {
     "name": "stdin",
     "output_type": "stream",
     "text": [
      "請填入空格中的字是： 缺\n"
     ]
    },
    {
     "name": "stdout",
     "output_type": "stream",
     "text": [
      "答對了！\n",
      "想像著生活風__浪靜\n"
     ]
    },
    {
     "name": "stdin",
     "output_type": "stream",
     "text": [
      "請填入空格中的字是： 平\n"
     ]
    },
    {
     "name": "stdout",
     "output_type": "stream",
     "text": [
      "答對了！\n",
      "打開了窗戶突然__起\n"
     ]
    },
    {
     "name": "stdin",
     "output_type": "stream",
     "text": [
      "請填入空格中的字是： 想\n"
     ]
    },
    {
     "name": "stdout",
     "output_type": "stream",
     "text": [
      "答對了！\n",
      "你在的世界會不會很靠近__星\n"
     ]
    },
    {
     "name": "stdin",
     "output_type": "stream",
     "text": [
      "請填入空格中的字是： 水\n"
     ]
    },
    {
     "name": "stdout",
     "output_type": "stream",
     "text": [
      "答對了！\n"
     ]
    }
   ],
   "source": [
    "## Data Section\n",
    "lyrics = \"\"\"路,去學校的路很久沒走\n",
    "換,最近也換了新的工作\n",
    "缺,所有的追求是不是缺少了什麼\n",
    "平,想像著生活風平浪靜\n",
    "想,打開了窗戶突然想起\n",
    "水,你在的世界會不會很靠近水星\"\"\"\n",
    "\n",
    "## Cloze sentence generation (P)\n",
    "sentence_list = lyrics.split(\"\\n\")\n",
    "sentence_list.reverse()\n",
    "\n",
    "print(\"--- 歌詞填空產生器 ---\")\n",
    "while sentence_list:\n",
    "    line = sentence_list.pop()\n",
    "    item_pair = line.split(\",\")\n",
    "    sentence_x = item_pair[1]\n",
    "    cloze_char = item_pair[0]\n",
    "    cloze_sentence = sentence_x.replace(cloze_char, \"__\")\n",
    "\n",
    "    ## Display the cloze (O)  \n",
    "    print(cloze_sentence)\n",
    "\n",
    "    ## User Input (I)\n",
    "    ans_char = input(\"請填入空格中的字是：\")\n",
    "\n",
    "    ## Check the answer (P)\n",
    "    if ans_char == cloze_char:\n",
    "        print(\"答對了！\")\n",
    "    else:\n",
    "        print(\"答案應該是「{}」\".format(cloze_char))\n"
   ]
  },
  {
   "cell_type": "code",
   "execution_count": null,
   "metadata": {},
   "outputs": [],
   "source": []
  }
 ],
 "metadata": {
  "kernelspec": {
   "display_name": "Python 3",
   "language": "python",
   "name": "python3"
  },
  "language_info": {
   "codemirror_mode": {
    "name": "ipython",
    "version": 3
   },
   "file_extension": ".py",
   "mimetype": "text/x-python",
   "name": "python",
   "nbconvert_exporter": "python",
   "pygments_lexer": "ipython3",
   "version": "3.7.0"
  }
 },
 "nbformat": 4,
 "nbformat_minor": 2
}
