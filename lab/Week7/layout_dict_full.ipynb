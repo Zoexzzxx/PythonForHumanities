{
 "cells": [
  {
   "cell_type": "markdown",
   "metadata": {},
   "source": [
    "# [Week7] 作業回饋"
   ]
  },
  {
   "cell_type": "markdown",
   "metadata": {},
   "source": [
    "* [作業目的](#作業目的)\n",
    "* [參考作法](#參考作法)\n",
    "* [相關問題](#相關問題)\n",
    "  * 什麼是'drift'？\n",
    "  * 為什麼要用`.get`方法？\n",
    "  * 什麼是`line_buffer`？\n",
    "* [延伸挑戰](#延伸挑戰)\n",
    "  * 二維陣列作法\n",
    "  * itertools作法\n",
    "  "
   ]
  },
  {
   "cell_type": "markdown",
   "metadata": {},
   "source": [
    "## 作業目的\n",
    "\n",
    "這次的作業是讓同學熟悉迴圈在程式中的功能。在「新詩排版」的程式裡，我們用迴圈走過「一個個」字，\n",
    "並且一個個檢查這個字在線索字典（layout_dict）裡有沒有對應的排版線索。這個程式用到的概念包括：\n",
    "迴圈（for loop）、字典資料型態（dict）、字典物件方法（dict method）、字串迭代（iterate over a string object）、條件式（if statement）。同時也用到 `+=`的指派語法縮寫。"
   ]
  },
  {
   "cell_type": "markdown",
   "metadata": {},
   "source": [
    "## 作業參考作法"
   ]
  },
  {
   "cell_type": "code",
   "execution_count": 1,
   "metadata": {},
   "outputs": [
    {
     "name": "stdout",
     "output_type": "stream",
     "text": [
      "\n",
      "東風不來\n",
      "三 月 的柳絮不飛\n",
      "你 的❤️  如 小 小寂寞 的🏰   \n",
      "恰若青石 的街道 向🌙   \n",
      "跫音不響\n",
      "三 月 的春帷不揭\n",
      "你 的❤️  是 小 小 的窗扉緊掩\n"
     ]
    }
   ],
   "source": [
    "## poem變項內容擷取自鄭愁予《錯誤》\n",
    "\n",
    "poem = \"\"\"\n",
    "東風不來，三月的柳絮不飛\n",
    "你的心如小小寂寞的城\n",
    "恰若青石的街道向晚\n",
    "跫音不響，三月的春帷不揭\n",
    "你的心是小小的窗扉緊掩\n",
    "\"\"\"\n",
    "\n",
    "layout_dict = {\n",
    "    \"心\": '❤️', '城': '🏰', '晚': '🌙',\n",
    "    \"小\": 'drift', \"向\": 'drift',\n",
    "    \"的\": 'drift', \"月\": 'drift'\n",
    "}\n",
    "\n",
    "line_buffer = \"\"\n",
    "for ch in poem:\n",
    "    if ch in (\"\\n\", \"，\"):\n",
    "        print(line_buffer)\n",
    "        line_buffer = \"\"\n",
    "    else:\n",
    "        layout_code = layout_dict.get(ch, \"\")        \n",
    "        if layout_code == \"drift\":\n",
    "            line_buffer += \"{:>2}\".format(ch)\n",
    "\n",
    "        elif len(layout_code) > 0:\n",
    "            line_buffer += \"{:<4}\".format(layout_code)\n",
    "\n",
    "        else:\n",
    "            line_buffer += ch               \n"
   ]
  },
  {
   "cell_type": "markdown",
   "metadata": {},
   "source": [
    "## 相關問題"
   ]
  },
  {
   "cell_type": "markdown",
   "metadata": {},
   "source": [
    "### 什麼是'drift'？"
   ]
  },
  {
   "cell_type": "markdown",
   "metadata": {},
   "source": [
    "\"drift\"只是一個表達排版線索的字串，單純只是因為空一格好像沒有飄得太遠，所以叫它\"drift\"。它是一個拿來表達排版線索的標記，不是一個程式語法。"
   ]
  },
  {
   "cell_type": "markdown",
   "metadata": {},
   "source": [
    "### 為什麼要用.get方法？"
   ]
  },
  {
   "cell_type": "markdown",
   "metadata": {},
   "source": [
    "`get(…)`方法可以在key存在於字典時直接取value，而當key不存在時直接傳一個預設值\n",
    "（在這個作業裡可直接用空字串當預設值）。在作業裡就是`layout_code = layout_dict.get(ch, \"\")`。\n",
    "\n",
    "dict有很多用來取值的物件方法。另一個很類似的方法是`.pop(...)`。這個方法和`.get(...)`有相同的特徵（signature），也就是這兩個函數的參數（parameters）型態和傳回值（return value）都相同，但他們**做的事情不同**。`.get(...)`不會改變字典物件本身的資料內容。但是，`.pop(...)`除了傳回key所對應的value或預設值以外，**它還會把字典中的key-value pair移除**。這個行為在有些應用的例子是滿方便的，但在這個作業裡，反而會讓線索字典裡的每個線索都只能被「取用一次」。也就是當第二次遇到同樣一個字時，線索字典裡對應的鍵值對就不見了。至少在上述的參考作法裡，用`.pop(...)`會造成很多非預期的後果。"
   ]
  },
  {
   "cell_type": "markdown",
   "metadata": {},
   "source": [
    "### 什麼是line_buffer？"
   ]
  },
  {
   "cell_type": "markdown",
   "metadata": {},
   "source": [
    "line_buffer變項，是在迴圈中負責接受每次迭代半成品的暫存變項。\n",
    "這個想法在寫迴圈的時候很常用到，或許可稱做程式的「慣用片語」。\n",
    "\"line_buffer\"本身只是一個變項名稱，不是Python的語法元素。這個變項可以叫做任何其他的名字。\n",
    "\n",
    "程式進行迴圈時，是將一個個元素拿出來走程式運算；運算完成後，程式會需要個「地方」來存放「運算後的成果」。\n",
    "在程式裡，這個地方所扮演的角色常被稱為「緩衝區」（buffer）。\n",
    "在作業的例子裡，程式把一個個字拿出來決定字之前要不要加入空白，\n",
    "要不要取代成emoji，還是就原字照列。當這個字處理完後，程式就將結果放入緩衝區。\n",
    "那就是line_buffer這個變項的功能。\n",
    "\n",
    "在這次的例子裡，會特別叫它 line_buffer，是因為這個程式是一行行呈現結果的。\n",
    "當一行處理完，也就是程式的迴圈變項遇到換行（\\n或，）時，\n",
    "我們就可以把`line_buffer`的內容呈現到螢幕上。\n",
    "這些內容呈現到螢幕之後，我們就用不到line_buffer裡的內容，\n",
    "於是可以把內容清掉（把它reset回一個空字串）。\n",
    "所以在程式的if條件式裡，`line_buffer = \"\"`那一行的目的就是reset緩衝區。"
   ]
  },
  {
   "cell_type": "markdown",
   "metadata": {},
   "source": [
    "## 延伸挑戰"
   ]
  },
  {
   "cell_type": "markdown",
   "metadata": {},
   "source": [
    "以下提供兩個想法。二維陣列的邏輯很像是橫排要換直排，就好像是要把矩陣轉置（transpose）一樣。\n",
    "所以它先宣告了一個「夠大」的緩衝區，先把新詩裡的每個字先塞到該放的位置。然後再一列列（by-row）印出來。\n",
    "\n",
    "itertools的想法則是把橫排換直排想成是另外一種迭代「取字」的方式，原本是要一個個序列取完的，\n",
    "要直排就是要先把「每一行的第一個字取出來」，印出來；然後把「每一行的第二個字取出來」，印出來。\n",
    "這個想法滿有特色的，用到的語法概念很可能這堂課不會介紹到。但這是很有趣的實作想法。\n",
    "\n",
    "同學很可能會想到其他分析問題的方式，以致於有截然不同的實作。老師與助教都覺得，只要同學做得出延伸挑戰，那都是非常值得敬佩的事了。這堂課「不會」去「評價」同學寫的程式。只要程式能達成任務（作業）需求，能解決同學的具體問題，在這堂課的標準裡就是好程式。「好」與「壞」就如所有其他對象事物一樣，都是主觀評價，牽涉到許多價值、討論、溝通、說服，這很可能不是這堂課有能力涉獵的。"
   ]
  },
  {
   "cell_type": "markdown",
   "metadata": {},
   "source": [
    "### 二維陣列作法"
   ]
  },
  {
   "cell_type": "code",
   "execution_count": 2,
   "metadata": {},
   "outputs": [],
   "source": [
    "poem = \"\"\"\n",
    "我打江南走過\n",
    "那等在季節裡的容顏如蓮花般開落\n",
    "東風不來，三月的柳絮不飛\n",
    "你的心如小小寂寞的城\n",
    "恰若青石的街道向晚\n",
    "跫音不響，三月的春帷不揭\n",
    "你的心是小小的窗扉緊掩\n",
    "我達達的馬蹄是美麗的錯誤\n",
    "我不是歸人，是個過客\n",
    "\"\"\""
   ]
  },
  {
   "cell_type": "code",
   "execution_count": 3,
   "metadata": {},
   "outputs": [
    {
     "name": "stdout",
     "output_type": "stream",
     "text": [
      "\n",
      "\n",
      "                          我　我　你　跫　恰　你　東　那　我                          \n",
      "                          不　達　的　音　若　的　風　等　打                          \n",
      "                          是　達　心　不　青　心　不　在　江                          \n",
      "                          歸　的　是　響　石　如　來　季　南                          \n",
      "                          人　馬　小　，　的　小　，　節　走                          \n",
      "                          ，　蹄　小　三　街　小　三　裡　過                          \n",
      "                          是　是　的　月　道　寂　月　的　　                          \n",
      "                          個　美　窗　的　向　寞　的　容　　                          \n",
      "                          過　麗　扉　春　晚　的　柳　顏　　                          \n",
      "                          客　的　緊　帷　　　城　絮　如　　                          \n",
      "                          　　錯　掩　不　　　　　不　蓮　　                          \n",
      "                          　　誤　　　揭　　　　　飛　花　　                          \n",
      "                          　　　　　　　　　　　　　　般　　                          \n",
      "                          　　　　　　　　　　　　　　開　　                          \n",
      "                          　　　　　　　　　　　　　　落　　                          \n",
      "                          　　　　　　　　　　　　　　　　　                          \n"
     ]
    }
   ],
   "source": [
    "poem_lines = poem.strip().split(\"\\n\")\n",
    "n_lines = len(poem_lines)\n",
    "n_height = max([len(x) for x in poem_lines])\n",
    "buffer = []\n",
    "\n",
    "## buffer preallocation\n",
    "for _ in range(n_height+1):\n",
    "    buffer.append([\"\\u3000\"] * n_lines)\n",
    "\n",
    "for ln_i, ln_x in enumerate(poem_lines):\n",
    "    for ch_i, ch_x in enumerate(ln_x):\n",
    "        row_idx = ch_i\n",
    "        col_idx = n_lines-ln_i-1\n",
    "        buffer[row_idx][col_idx] = ch_x\n",
    "\n",
    "print(\"\\n\")\n",
    "for buf_x in buffer:\n",
    "    ln_x = \"\\u3000\".join(buf_x)\n",
    "    print(\"{:^69}\".format(ln_x))\n",
    "\n"
   ]
  },
  {
   "cell_type": "markdown",
   "metadata": {},
   "source": [
    "### itertools作法"
   ]
  },
  {
   "cell_type": "code",
   "execution_count": 4,
   "metadata": {},
   "outputs": [
    {
     "name": "stdout",
     "output_type": "stream",
     "text": [
      "\n",
      "\n",
      "                          我　我　你　跫　恰　你　東　那　我                          \n",
      "                          不　達　的　音　若　的　風　等　打                          \n",
      "                          是　達　心　不　青　心　不　在　江                          \n",
      "                          歸　的　是　響　石　如　來　季　南                          \n",
      "                          人　馬　小　，　的　小　，　節　走                          \n",
      "                          ，　蹄　小　三　街　小　三　裡　過                          \n",
      "                          是　是　的　月　道　寂　月　的　　                          \n",
      "                          個　美　窗　的　向　寞　的　容　　                          \n",
      "                          過　麗　扉　春　晚　的　柳　顏　　                          \n",
      "                          客　的　緊　帷　　　城　絮　如　　                          \n",
      "                          　　錯　掩　不　　　　　不　蓮　　                          \n",
      "                          　　誤　　　揭　　　　　飛　花　　                          \n",
      "                          　　　　　　　　　　　　　　般　　                          \n",
      "                          　　　　　　　　　　　　　　開　　                          \n",
      "                          　　　　　　　　　　　　　　落　　                          \n",
      "\n"
     ]
    }
   ],
   "source": [
    "import itertools\n",
    "print(\"\\n\")\n",
    "lines = poem.strip().split(\"\\n\")\n",
    "for char_tup in itertools.zip_longest(*lines, fillvalue='\\u3000'):\n",
    "    char_list = list(char_tup)\n",
    "    char_list.reverse()\n",
    "    ln_str = \"\\u3000\".join(char_list)\n",
    "    print(\"{:^69}\".format(ln_str))\n",
    "print(\"\")"
   ]
  }
 ],
 "metadata": {
  "kernelspec": {
   "display_name": "Python 3",
   "language": "python",
   "name": "python3"
  },
  "language_info": {
   "codemirror_mode": {
    "name": "ipython",
    "version": 3
   },
   "file_extension": ".py",
   "mimetype": "text/x-python",
   "name": "python",
   "nbconvert_exporter": "python",
   "pygments_lexer": "ipython3",
   "version": "3.7.0"
  }
 },
 "nbformat": 4,
 "nbformat_minor": 2
}
