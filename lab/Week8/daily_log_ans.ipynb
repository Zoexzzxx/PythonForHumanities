{
 "cells": [
  {
   "cell_type": "markdown",
   "metadata": {},
   "source": [
    "# Week8：作業回饋"
   ]
  },
  {
   "cell_type": "markdown",
   "metadata": {},
   "source": [
    "## 作業目的\n",
    "1. 讓同學熟悉函式定義（`def funcX`）、函式呼叫（`funcX()`）的語法，以及多個函式如何在一個程式中分工合作。\n",
    "2. 再次讓同學練習如何使用迴圈，以及嘗試閱讀說明文件（例如`datetime.strptime`）。\n",
    "3. 觀察資料結構如何幫助程式操作資料，例如這個作業的`ltime_dict`。"
   ]
  },
  {
   "cell_type": "markdown",
   "metadata": {},
   "source": [
    "## 參考作法"
   ]
  },
  {
   "cell_type": "markdown",
   "metadata": {},
   "source": [
    "為讓程式碼長度縮短，以下僅呈現作業需實作的`group_last_time`函式，以及相對應的呼叫程式"
   ]
  },
  {
   "cell_type": "code",
   "execution_count": 1,
   "metadata": {},
   "outputs": [
    {
     "name": "stdout",
     "output_type": "stream",
     "text": [
      "[寫日記]，最近一次是12天前\n",
      "[7-11]，最近一次是14天前\n",
      "[總圖]，最近一次是14天前\n",
      "\n"
     ]
    }
   ],
   "source": [
    "from datetime import datetime\n",
    "\n",
    "## Data Section\n",
    "## =============\n",
    "\n",
    "events = [\n",
    "    (\"2018/10/25\", \"寫日記\", 30),\n",
    "    (\"2018/10/23\", \"7-11\", 1),\n",
    "    (\"2018/9/27\", \"寫日記\", 30),\n",
    "    (\"2018/9/28\", \"寫日記\", 20),\n",
    "    (\"2018/9/29\", \"寫日記\", 40),\n",
    "    (\"2018/9/29\", \"總圖\", 3),\n",
    "    (\"2018/9/30\", \"寫日記\", 25),\n",
    "    (\"2018/10/21\", \"7-11\", 2),\n",
    "    (\"2018/10/22\", \"總圖\", 3),\n",
    "    (\"2018/10/23\", \"總圖\", 2)\n",
    "]\n",
    "\n",
    "event_info = {\n",
    "    \"寫日記\": {\n",
    "        \"detail\": \"寫日記花的時間\",\n",
    "        \"unit\": \"分鐘\"},\n",
    "    \"7-11\": {\n",
    "        \"detail\": \"在7-11蒐集到的點數\",\n",
    "        \"unit\": \"點\"},\n",
    "    \"總圖\": {\n",
    "        \"detail\": \"在總圖唸書的時間\",\n",
    "        \"unit\": \"小時\"}\n",
    "}\n",
    "\n",
    "## -----------------------\n",
    "##   Function Definition\n",
    "## -----------------------\n",
    "def group_last_time(ev_data, ev_info):\n",
    "    ltime_dict = {}\n",
    "    for ev_x in ev_data:\n",
    "        ev_category = ev_x[1]\n",
    "        ltime_day = ltime_dict.get(ev_category, 36500)\n",
    "        date_x = datetime.strptime(ev_x[0], \"%Y/%m/%d\")\n",
    "        date_diff = datetime.now() - date_x\n",
    "        ltime_day = min(ltime_day, date_diff.days)\n",
    "        ltime_dict[ev_category] = ltime_day\n",
    "\n",
    "    output_text = format_group_message(\n",
    "        \"[{category}]，最近一次是{value}天前\\n\", ltime_dict, ev_info)\n",
    "    return output_text\n",
    "\n",
    "def format_group_message(template, group_dict, ev_info):\n",
    "    output_text = \"\"\n",
    "    for group_cat, group_val in group_dict.items():\n",
    "        group_detail = ev_info[group_cat][\"detail\"]\n",
    "        group_unit = ev_info[group_cat][\"unit\"]\n",
    "        output_text += template.format(\n",
    "            category=group_cat,\n",
    "            detail=group_detail,\n",
    "            value=group_val,\n",
    "            unit=group_unit\n",
    "        )\n",
    "    return output_text\n",
    "\n",
    "## ---------------------\n",
    "##  Main Entry Function\n",
    "## ---------------------\n",
    "\n",
    "def main():\n",
    "    outStr = group_last_time(events, event_info)\n",
    "    print(outStr)\n",
    "    \n",
    "## Calling main() function\n",
    "main()\n"
   ]
  },
  {
   "cell_type": "markdown",
   "metadata": {},
   "source": [
    "## 相關問題"
   ]
  },
  {
   "cell_type": "markdown",
   "metadata": {},
   "source": [
    "### ltime_dict是做什麼的？"
   ]
  },
  {
   "cell_type": "markdown",
   "metadata": {},
   "source": [
    "`ltime_dict`是一個暫存變項，負責收集「迭代到目前為止的成果」用的。以下的程式和作業相似，但加了一些debug print，希望能幫助同學理解它在程式中的作用。\n",
    "\n",
    "以下這個例子只有2個事件類別（寫日記、7-11），共4個事件。在走迴圈時，第一次迭代（iteration）遇到的是「寫日記」，距離現在（今天是2018/11/6）5天前，所以在`ltime_dict`中會記錄一筆`{'寫日記': 5}`。接著第二次迭代中，遇到「7-11」，距離現在1天前，所以`ltime_dict`會再記錄一筆鍵值對，變成`{'寫日記': 5, '7-11': 1}`。第三次迭代，遇到是「寫日記」，距離現在3天前。這時候這個天數比`ltime_dict`裡的「寫日記」對應到的數值`5`小，所以就取代掉它。這時`ltime_dict`裡的值是`{'寫日記': 3, '7-11': 1}`。最後一次迭代，遇到「7-11」，距離現在2天前，這個值沒有比`ltime_dict`裡7-11所對應到的數值`1`小，所以還是保留一樣的值`{'寫日記': 3, '7-11': 1}`。於是最後的輸出值就是`{'寫日記': 3, '7-11': 1}`。\n",
    "\n",
    "`ltime_dict`扮演的角色很像W7的`line_buffer`，只是又更「活」了一點。`ltime_dict`會動態地（dynamically）「看」到不同的活動類別，而新增不同的key；同時，如果遇到新的事件，其距離現在的天數比`ltime_dict`裡該事件所對應的暫存天數小，它就「知道」要把它換過來。於是最後`ltime_dict`的內容就是分群（分各個活動類別），以及彙總（每個類別的最小值）的結果。"
   ]
  },
  {
   "cell_type": "code",
   "execution_count": 2,
   "metadata": {},
   "outputs": [
    {
     "name": "stdout",
     "output_type": "stream",
     "text": [
      "[DEBUG] ev_x: ('2018/11/1', '寫日記', 30)\n",
      "[DEBUG] ltime_dict: {'寫日記': 5}\n",
      "[DEBUG] ev_x: ('2018/11/5', '7-11', 1)\n",
      "[DEBUG] ltime_dict: {'寫日記': 5, '7-11': 1}\n",
      "[DEBUG] ev_x: ('2018/11/3', '寫日記', 25)\n",
      "[DEBUG] ltime_dict: {'寫日記': 3, '7-11': 1}\n",
      "[DEBUG] ev_x: ('2018/11/4', '7-11', 2)\n",
      "[DEBUG] ltime_dict: {'寫日記': 3, '7-11': 1}\n",
      "Calling group_last_time(): {'寫日記': 3, '7-11': 1}\n"
     ]
    }
   ],
   "source": [
    "events_dbg = [\n",
    "    (\"2018/11/1\", \"寫日記\", 30),\n",
    "    (\"2018/11/5\", \"7-11\", 1),\n",
    "    (\"2018/11/3\", \"寫日記\", 25),\n",
    "    (\"2018/11/4\", \"7-11\", 2)\n",
    "]\n",
    "\n",
    "def group_last_time(ev_data, ev_info):\n",
    "    ltime_dict = {}\n",
    "    for ev_x in ev_data:\n",
    "        ev_category = ev_x[1]\n",
    "        ltime_day = ltime_dict.get(ev_category, 36500)\n",
    "        date_x = datetime.strptime(ev_x[0], \"%Y/%m/%d\")\n",
    "        date_diff = datetime.now() - date_x\n",
    "        ltime_day = min(ltime_day, date_diff.days)\n",
    "        ltime_dict[ev_category] = ltime_day\n",
    "        print(\"[DEBUG] ev_x: {}\".format(ev_x))\n",
    "        print(\"[DEBUG] ltime_dict: {}\".format(ltime_dict))\n",
    "\n",
    "    return ltime_dict\n",
    "\n",
    "def main():\n",
    "    print(\"Calling group_last_time(): {}\".format(group_last_time(events_dbg, event_info)))\n",
    "\n",
    "## Calling main() function\n",
    "main()"
   ]
  },
  {
   "cell_type": "markdown",
   "metadata": {},
   "source": [
    "### datetime.strptime是什麼？"
   ]
  },
  {
   "cell_type": "markdown",
   "metadata": {},
   "source": [
    "作業裡每個events的日期資料（如\"2018/10/23\"）是一個字串，而datetime是另外一個「代表時間和日期的物件」，所以從字串到datetime物件，需要用[datetime.strptime][strptime_doc]方法。strptime和strftime兩個方法中，p代表parse，也就是從字串剖析（parse）成時間；另一個f代表format，也就是從時間格式化（format）成字串。在這裡，我們要從代表日期的字串變成datetime物件，所以這裡需要用到的是strptime方法。strptime跟strftime一樣都需要給日期格式字串。我們這裡用的日期資料是「四位數的西元年」（%Y）、月份數字（%m）、日期數字（%d）。這就是作業提示的日期格式字串（\"%Y/%m/%d\"）中的三個符號。這三個符號中間用`/`分隔，是因為events的日期資料是用斜線（`/`）分隔。其他可能常見的日期字串以及他們的日期格式字串如下：\n",
    "\n",
    "[strptime_doc]:https://docs.python.org/3/library/datetime.html#datetime.datetime.strptime"
   ]
  },
  {
   "cell_type": "code",
   "execution_count": 3,
   "metadata": {},
   "outputs": [
    {
     "data": {
      "text/plain": [
       "datetime.datetime(2018, 3, 14, 0, 0)"
      ]
     },
     "execution_count": 3,
     "metadata": {},
     "output_type": "execute_result"
    }
   ],
   "source": [
    "datetime.strptime(\"20180314\", \"%Y%m%d\")"
   ]
  },
  {
   "cell_type": "code",
   "execution_count": 4,
   "metadata": {},
   "outputs": [
    {
     "data": {
      "text/plain": [
       "datetime.datetime(2018, 3, 14, 0, 0)"
      ]
     },
     "execution_count": 4,
     "metadata": {},
     "output_type": "execute_result"
    }
   ],
   "source": [
    "datetime.strptime(\"180314\", \"%y%m%d\")"
   ]
  },
  {
   "cell_type": "code",
   "execution_count": 5,
   "metadata": {},
   "outputs": [
    {
     "data": {
      "text/plain": [
       "datetime.datetime(2018, 3, 14, 0, 0)"
      ]
     },
     "execution_count": 5,
     "metadata": {},
     "output_type": "execute_result"
    }
   ],
   "source": [
    "datetime.strptime(\"2018-03-14\", \"%Y-%m-%d\")"
   ]
  },
  {
   "cell_type": "markdown",
   "metadata": {},
   "source": [
    "### 附註：電腦裡的時間\n",
    "就如人類的文字對電腦而言很陌生，人類世界的時間對電腦而言也很陌生。人們平常表達日期時間的方式並不固定，常間的格式就有年月日、日月年、月日年等表達方法，甚至還有可能有加星期幾，沒有加星期幾等等不同的表達方式。為了讓程式能方便操作、剖析、格式化這些日期時間概念，Python在`datetime`模組（module）中有許多相關的「類別」（class）。這些類別包括描述日期的`date`、描述時間的`time`、描述日期和時間的`datetime`、描述時間差異的`timedelta`，甚至還有描述時區的`tzinfo`和`timezone`。這些模組、類別看似複雜，但它們只是Python為了「適應」複雜的人類世界所提供的方便工具。"
   ]
  },
  {
   "cell_type": "markdown",
   "metadata": {},
   "source": [
    "## 延伸挑戰"
   ]
  },
  {
   "cell_type": "markdown",
   "metadata": {},
   "source": [
    "這週的延伸挑戰真的「很有挑戰性」。以下提供兩種想法參考。就如同上一週的作業回饋所提的，這堂課不會區分實作方法的好壞。同學能夠用程式講出一個解決問題的「故事」是最重要的。"
   ]
  },
  {
   "cell_type": "markdown",
   "metadata": {},
   "source": [
    "### 用暫存變項檢查並記錄連續"
   ]
  },
  {
   "cell_type": "code",
   "execution_count": 6,
   "metadata": {},
   "outputs": [
    {
     "name": "stdout",
     "output_type": "stream",
     "text": [
      "[7-11]，最長連續紀錄是1天\n",
      "[寫日記]，最長連續紀錄是4天\n",
      "[總圖]，最長連續紀錄是2天\n",
      "\n"
     ]
    }
   ],
   "source": [
    "def group_longest(ev_data, ev_info):\n",
    "    buf_dict = {}\n",
    "    def get_def_buf():\n",
    "        return {\"longest\": 1, \"lastdate\": None, \"continued\": 0}\n",
    "    ev_sorted = [(datetime.strptime(x[0], \"%Y/%m/%d\"),\n",
    "                  x[1], x[2]) for x in ev_data]\n",
    "    ev_sorted.sort(key=lambda x: (x[1], x[0]))\n",
    "\n",
    "    for ev_x in ev_sorted:\n",
    "        ev_category = ev_x[1]\n",
    "        date_x = ev_x[0]\n",
    "        ev_buf = buf_dict.setdefault(ev_category, get_def_buf())\n",
    "\n",
    "        ev_last = ev_buf[\"lastdate\"]\n",
    "        if ev_last and (date_x - ev_last).days == 1:\n",
    "            ev_buf[\"continued\"] = ev_buf[\"continued\"] + 1\n",
    "            ev_buf[\"longest\"] = max(ev_buf[\"longest\"], ev_buf[\"continued\"])\n",
    "        else:\n",
    "            ev_buf[\"continued\"] = 1\n",
    "        ev_buf[\"lastdate\"] = date_x\n",
    "        buf_dict[ev_category] = ev_buf\n",
    "\n",
    "    cont_dict = {k: ev_buf[\"longest\"] for k, ev_buf in buf_dict.items()}\n",
    "    output_text = format_group_message(\n",
    "        \"[{category}]，最長連續紀錄是{value}天\\n\", cont_dict, ev_info)\n",
    "    return output_text\n",
    "print(group_longest(events, event_info))"
   ]
  },
  {
   "cell_type": "markdown",
   "metadata": {},
   "source": [
    "### 用輔助變項定義連續"
   ]
  },
  {
   "cell_type": "code",
   "execution_count": 7,
   "metadata": {},
   "outputs": [
    {
     "name": "stdout",
     "output_type": "stream",
     "text": [
      "[7-11]，最長連續紀錄是1天\n",
      "[寫日記]，最長連續紀錄是4天\n",
      "[總圖]，最長連續紀錄是2天\n",
      "\n"
     ]
    }
   ],
   "source": [
    "from itertools import groupby\n",
    "from datetime import timedelta\n",
    "\n",
    "def group_longest_iter(ev_data, ev_info):\n",
    "    ev_sorted = [(datetime.strptime(x[0], \"%Y/%m/%d\"),\n",
    "                  x[1], x[2]) for x in ev_data]\n",
    "    ev_sorted.sort(key=lambda x: (x[1], x[0]))\n",
    "\n",
    "    cont_dict = {}\n",
    "    for grp, grp_iter in groupby(ev_sorted, key=lambda x: x[1]):\n",
    "        grp_list = list(grp_iter)\n",
    "        shifted = [grp_list[-1]] + grp_list[:-1]\n",
    "        cumsum = 0\n",
    "        cumsum_list = []\n",
    "        for x0, x1 in zip(grp_list, shifted):\n",
    "            diff = x0[0] - x1[0]\n",
    "            cumsum += int(diff != timedelta(days=1))\n",
    "            cumsum_list.append(cumsum)\n",
    "\n",
    "        seq_groups = groupby(cumsum_list)\n",
    "        seq_lens = [len(list(seq_iter)) for _, seq_iter in seq_groups]\n",
    "        cont_dict[grp] = max(seq_lens)\n",
    "\n",
    "    output_text = format_group_message(\n",
    "        \"[{category}]，最長連續紀錄是{value}天\\n\", cont_dict, ev_info)\n",
    "\n",
    "    return output_text\n",
    "print(group_longest_iter(events, event_info))"
   ]
  }
 ],
 "metadata": {
  "kernelspec": {
   "display_name": "Python 3",
   "language": "python",
   "name": "python3"
  },
  "language_info": {
   "codemirror_mode": {
    "name": "ipython",
    "version": 3
   },
   "file_extension": ".py",
   "mimetype": "text/x-python",
   "name": "python",
   "nbconvert_exporter": "python",
   "pygments_lexer": "ipython3",
   "version": "3.7.0"
  }
 },
 "nbformat": 4,
 "nbformat_minor": 2
}
