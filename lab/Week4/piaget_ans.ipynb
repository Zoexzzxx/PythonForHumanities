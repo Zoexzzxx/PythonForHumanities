{
 "cells": [
  {
   "cell_type": "markdown",
   "metadata": {},
   "source": [
    "# Week 4 作業回饋"
   ]
  },
  {
   "cell_type": "markdown",
   "metadata": {},
   "source": [
    "## 作業目的\n",
    "讓同學練習如何用字典/對應表資料結構（dict）建立資料表徵。當dict是雙層的巢套結構式，亦即第一層的鍵值對（key-value pair）中，其value是另一個dict時，這樣的資料結構相當於常見的表格資料（tabular）。從這個作業以及W4的「貓」劇本資料結構中，希望讓同學感受到資料結構的表徵常常與資料本身的內容（或意義）無關。我們看起來截然不同的資料（劇本和認知階段理論），其背後的邏輯結構可能會是完全相同的（都是表格資料）。"
   ]
  },
  {
   "cell_type": "markdown",
   "metadata": {},
   "source": [
    "## 參考作法"
   ]
  },
  {
   "cell_type": "code",
   "execution_count": 1,
   "metadata": {},
   "outputs": [
    {
     "name": "stdin",
     "output_type": "stream",
     "text": [
      "請輸入年齡(0-16): 10\n"
     ]
    },
    {
     "name": "stdout",
     "output_type": "stream",
     "text": [
      "== 具體運思期 ==\n",
      "(Concrete Operational)\n",
      "幼兒開始理解邏輯規則，並能按照具體經驗解決問題。\n",
      "在認知發展理論中，此階段的幼兒已掌握可逆與保留概念，\n",
      "同時也能理解如何從別人的角度看世界。\n"
     ]
    }
   ],
   "source": [
    "## Data section\n",
    "## =================\n",
    "\n",
    "## [NOTE] Piaget's cognitive development theory IS NOT \n",
    "## just a collection of stage description. Please refer \n",
    "## to following link for a more detail introduction of \n",
    "## cognitive development theory. \n",
    "## https://en.wikipedia.org/wiki/Piaget%27s_theory_of_cognitive_development\n",
    "\n",
    "piaget_theory = {\n",
    "    \"Sensorimotor\": {\n",
    "        \"description\": (\n",
    "            \"嬰兒透過感覺與動作經驗建構對於世界的知識，\\n\"\n",
    "            \"並藉著本能性反射與世界互動。\\n\"\n",
    "            \"此階段將發展出物體恆存概念。\\n\"),\n",
    "        \"label\": \"感覺運動期\"\n",
    "    },\n",
    "    \"Preoperational\": {\n",
    "        \"description\": (\n",
    "            \"幼兒已經能使用語言、符號等工具表徵外在事物。\\n\"\n",
    "            \"此階段幼兒的思考被認為有以自我為中心、不可逆轉、\\n\"\n",
    "            \"專注事物單面向等特性。\\n\"),\n",
    "        \"label\": \"前運思期\"\n",
    "    },\n",
    "    \"Concrete Operational\": {\n",
    "        \"description\": (\n",
    "            \"幼兒開始理解邏輯規則，並能按照具體經驗解決問題。\\n\"  \n",
    "            \"在認知發展理論中，此階段的幼兒已掌握可逆與保留概念，\\n\"\n",
    "            \"同時也能理解如何從別人的角度看世界。\"\n",
    "            ),\n",
    "        \"label\": \"具體運思期\"\n",
    "    },\n",
    "    \"Formal Operational\": {\n",
    "        \"description\": (\n",
    "            \"個體開始具備抽象概念思考和演繹推理的能力，\\n\"\n",
    "            \"並逐漸展現出後設認知及系統性解決問題的能力。\\n\"),\n",
    "        \"label\": \"形式運思期\"\n",
    "    }\n",
    "}\n",
    "\n",
    "## Input Section\n",
    "## ===============\n",
    "\n",
    "age_str = input(\"請輸入年齡(0-16):\")\n",
    "age = int(age_str)\n",
    "\n",
    "## Program Section\n",
    "## ================\n",
    "if 0 <= age < 2:\n",
    "    stage = \"Sensorimotor\"\n",
    "elif 2 <= age < 7:\n",
    "    stage = \"Preoperational\"\n",
    "elif 7 <= age < 11:\n",
    "    stage = \"Concrete Operational\"\n",
    "elif 11 <= age <= 16:\n",
    "    stage = \"Formal Operational\"\n",
    "else:\n",
    "    print(\"invalid age\")\n",
    "    exit()\n",
    "stage_info = piaget_theory[stage]\n",
    "stage_tw = stage_info[\"label\"]\n",
    "description = stage_info[\"description\"]\n",
    "\n",
    "## Output Section\n",
    "## ==============\n",
    "print(\"== \" + stage_tw + \" ==\")\n",
    "print(\"(\" + stage + \")\")\n",
    "print(description)\n"
   ]
  },
  {
   "cell_type": "markdown",
   "metadata": {},
   "source": [
    "## 相關問題"
   ]
  },
  {
   "cell_type": "markdown",
   "metadata": {},
   "source": [
    "### 為什麼piaget_theory會是這樣定義？"
   ]
  },
  {
   "cell_type": "markdown",
   "metadata": {},
   "source": [
    "Program Section中有以下三行\n",
    "```python\n",
    "stage_info = piaget_theory[stage]\n",
    "stage_tw = stage_info[\"label\"]\n",
    "description = stage_info[\"description\"]\n",
    "```\n",
    "\n",
    "上述的程式暗示piaget_theory是一個巢套(nested)結構，而且第一層的鍵(key)是四個階段的英文標籤（sensorimotor, preoperational , 等4個），這4個鍵各自對的第二層dictionary。程式用英文標籤當作key，取出第二層的值，也就是第二層的dict。第二層的dictionary有2個key，分別是\"label\"和\"description\"，各自對應到中文標籤和階段敘述。\n",
    "\n",
    "這個結構和課堂範例的「貓」劇本有完全相同的資料結構：第一層是個個場景的名稱（就像這裡的英文階段名），第二層是每個場景中各自對應到另一個dictionary，每個dictionary中包含\"story\"和\"link\"兩個key（在作業裡，就像是\"label\"和\"description\"所需要扮演的角色）。\n",
    "\n",
    "piage_theory這個資料不見得要定義成一個字典的巢套結構，它可以是各種型態。只是如果程式區塊（Program section）已經「寫定」，資料區塊的表徵方法大概就定了。"
   ]
  },
  {
   "cell_type": "markdown",
   "metadata": {},
   "source": [
    "## 延伸挑戰\n",
    "如同相關問題中所提及的，當程式邏輯給定了，資料表徵大概也定了；但相對地，如果資料表徵先給定，程式邏輯只要跟著改變，仍然能達成同樣的「任務」（task）。例如，同一個認知階段查詢任務，我們可以不要用到字典，而改用清單（list）和tuple資料型態來表徵認知階段理論。"
   ]
  },
  {
   "cell_type": "code",
   "execution_count": 5,
   "metadata": {},
   "outputs": [
    {
     "name": "stdin",
     "output_type": "stream",
     "text": [
      "請輸入年齡(0-16): 10\n"
     ]
    },
    {
     "name": "stdout",
     "output_type": "stream",
     "text": [
      "== 具體運思期 ==\n",
      "(Concrete Operational)\n",
      "幼兒開始理解邏輯規則，並能按照具體經驗解決問題。\n",
      "在認知發展理論中，此階段的幼兒已掌握可逆與保留概念，\n",
      "同時也能理解如何從別人的角度看世界。\n"
     ]
    }
   ],
   "source": [
    "\n",
    "piaget_theory = [\n",
    "    (\"Sensorimotor\", \"感覺運動期\", (\n",
    "        \"嬰兒透過感覺與動作經驗建構對於世界的知識，\\n\"\n",
    "        \"並藉著本能性反射與世界互動。\\n\"\n",
    "        \"此階段將發展出物體恆存概念。\\n\")),    \n",
    "    (\"Preoperational\", \"前運思期\", (        \n",
    "        \"幼兒已經能使用語言、符號等工具表徵外在事物。\\n\"\n",
    "        \"此階段幼兒的思考被認為有以自我為中心、不可逆轉、\\n\"\n",
    "        \"專注事物單面向等特性。\\n\")),            \n",
    "    (\"Concrete Operational\", \"具體運思期\", (   \n",
    "        \"幼兒開始理解邏輯規則，並能按照具體經驗解決問題。\\n\"  \n",
    "        \"在認知發展理論中，此階段的幼兒已掌握可逆與保留概念，\\n\"\n",
    "        \"同時也能理解如何從別人的角度看世界。\")),                \n",
    "    (\"Formal Operational\", \"形式運思期\", (        \n",
    "        \"個體開始具備抽象概念思考和演繹推理的能力，\\n\"\n",
    "        \"並逐漸展現出後設認知及系統性解決問題的能力。\\n\")),            \n",
    "]\n",
    "\n",
    "## Input Section\n",
    "## ===============\n",
    "\n",
    "age_str = input(\"請輸入年齡(0-16):\")\n",
    "age = int(age_str)\n",
    "\n",
    "## Program Section\n",
    "## ================\n",
    "if 0 <= age < 2:\n",
    "    stage_idx = 0\n",
    "elif 2 <= age < 7:\n",
    "    stage_idx = 1\n",
    "elif 7 <= age < 11:\n",
    "    stage_idx = 2\n",
    "elif 11 <= age <= 16:\n",
    "    stage_idx = 3\n",
    "else:\n",
    "    print(\"invalid age\")\n",
    "    exit()\n",
    "stage_info = piaget_theory[stage_idx]\n",
    "stage_en = stage_info[0]\n",
    "stage_tw = stage_info[1]\n",
    "description = stage_info[2]\n",
    "\n",
    "## Output Section\n",
    "## ==============\n",
    "print(\"== \" + stage_tw + \" ==\")\n",
    "print(\"(\" + stage_en + \")\")\n",
    "print(description)"
   ]
  },
  {
   "cell_type": "code",
   "execution_count": null,
   "metadata": {},
   "outputs": [],
   "source": []
  }
 ],
 "metadata": {
  "kernelspec": {
   "display_name": "Python 3",
   "language": "python",
   "name": "python3"
  },
  "language_info": {
   "codemirror_mode": {
    "name": "ipython",
    "version": 3
   },
   "file_extension": ".py",
   "mimetype": "text/x-python",
   "name": "python",
   "nbconvert_exporter": "python",
   "pygments_lexer": "ipython3",
   "version": "3.7.0"
  }
 },
 "nbformat": 4,
 "nbformat_minor": 2
}
